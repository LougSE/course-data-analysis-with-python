{
    "cells": [
        {
            "cell_type": "markdown",
            "metadata": {},
            "source": [
                "# Jupyter Notebook Cheatsheet\n"
            ]
        },
        {
            "cell_type": "markdown",
            "id": "96901c32",
            "metadata": {
                "vscode": {
                    "languageId": "plaintext"
                }
            },
            "source": [
                "## Keyboard Shortcuts\n",
                "\n",
                "### Command Mode (press `Esc` to activate)\n",
                "- `Enter`: Switch to Edit mode\n",
                "- `Shift + Enter`: Run cell and select below\n",
                "- `Ctrl + Enter`: Run cell\n",
                "- `Alt + Enter`: Run cell and insert below\n",
                "- `Y`: Change cell to code\n",
                "- `M`: Change cell to markdown\n",
                "- `A`: Insert cell above\n",
                "- `B`: Insert cell below\n",
                "- `D + D`: Delete cell\n",
                "- `Z`: Undo delete cell\n",
                "- `H`: Show all shortcuts\n",
                "\n",
                "### Edit Mode (press `Enter` to activate)\n",
                "- `Ctrl + A`: Select all\n",
                "- `Ctrl + Z`: Undo\n",
                "- `Ctrl + Shift + Z`: Redo\n",
                "- `Ctrl + Y`: Redo\n",
                "- `Ctrl + /`: Toggle comment\n"
            ]
        },
        {
            "cell_type": "markdown",
            "metadata": {},
            "source": [
                "## Markdown Formatting\n",
                "\n",
                "### Headings\n",
                "```\n",
                "# Heading 1\n",
                "## Heading 2\n",
                "### Heading 3\n",
                "```\n",
                "\n",
                "### Emphasis\n",
                "```\n",
                "*italic* or _italic_\n",
                "**bold** or __bold__\n",
                "```\n",
                "\n",
                "### Lists\n",
                "- Unordered List:\n",
                "```\n",
                "- Item 1\n",
                "  - Subitem 1\n",
                "```\n",
                "- Ordered List:\n",
                "```\n",
                "1. Item 1\n",
                "2. Item 2\n",
                "```\n",
                "\n",
                "### Links\n",
                "```\n",
                "[Link text](http://url.com)\n",
                "```\n",
                "\n",
                "### Images\n",
                "```\n",
                "![Alt text](http://imageurl.com)\n",
                "```\n",
                "\n",
                "### Code\n",
                "```\n",
                "`inline code`\n",
                "```\n",
                "\n",
                "### Block Code\n",
                "```\n",
                "```\n",
                "Code block\n",
                "```\n",
                "```\n"
            ]
        },
        {
            "cell_type": "markdown",
            "metadata": {},
            "source": [
                "## Useful Magic Commands\n",
                "\n",
                "### Line Magics\n",
                "- `%pwd`: Print current working directory\n",
                "- `%ls`: List files in current directory\n",
                "- `%matplotlib inline`: Display plots inline\n",
                "\n",
                "### Cell Magics\n",
                "- `%%time`: Time the execution of a cell\n",
                "- `%%writefile filename.py`: Save cell content to a file\n",
                "- `%%capture`: Capture cell output\n"
            ]
        },
        {
            "cell_type": "markdown",
            "metadata": {},
            "source": [
                "## Common Tasks\n",
                "\n",
                "### Run Shell Commands\n",
                "```\n",
                "!command\n",
                "!ls -la\n",
                "```\n",
                "\n",
                "### Import Libraries\n",
                "```python\n",
                "import numpy as np\n",
                "import pandas as pd\n",
                "```\n",
                "\n",
                "### Create Plots\n",
                "```python\n",
                "import matplotlib.pyplot as plt\n",
                "plt.plot([1, 2, 3], [4, 5, 6])\n",
                "plt.show()\n",
                "```\n",
                "\n",
                "### Load Data\n",
                "```python\n",
                "data = pd.read_csv('file.csv')\n",
                "```\n"
            ]
        },
        {
            "cell_type": "markdown",
            "metadata": {},
            "source": [
                "## Tips\n",
                "- Use `?` or `help()` for documentation:\n",
                "```python\n",
                "np.mean?\n",
                "```\n",
                "- View available methods:\n",
                "```python\n",
                "dir(np)\n",
                "```\n"
            ]
        },
        {
            "cell_type": "markdown",
            "id": "d9e694c5",
            "metadata": {},
            "source": [
                "`***` to draw a horizontal line"
            ]
        }
    ],
    "metadata": {
        "kernelspec": {
            "display_name": "Python 3",
            "language": "python",
            "name": "python3"
        },
        "language_info": {
            "codemirror_mode": {
                "name": "ipython",
                "version": 3
            },
            "file_extension": ".py",
            "mimetype": "text/x-python",
            "name": "python",
            "nbconvert_exporter": "python",
            "pygments_lexer": "ipython3",
            "version": "3.11.0"
        }
    },
    "nbformat": 4,
    "nbformat_minor": 5
}
