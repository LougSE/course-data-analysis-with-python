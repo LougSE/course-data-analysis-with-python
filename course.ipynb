{
 "cells": [
  {
   "cell_type": "markdown",
   "metadata": {},
   "source": [
    "# Data Analysis with Python - IBM"
   ]
  },
  {
   "cell_type": "markdown",
   "metadata": {},
   "source": [
    "Link to the course: https://www.coursera.org/learn/data-analysis-with-python/"
   ]
  },
  {
   "cell_type": "markdown",
   "metadata": {},
   "source": [
    "#### Modules:\n",
    "1. Importing Data Sets: 1 hour to complete\n",
    "2. Data Wrangling: 1 hour to complete\n",
    "3. Exploratory Data Analysis: 2 hours to complete\n",
    "4. Model Development: 2 hours to complete\n",
    "5. Model Evaluation and refinement: 2 hours to complete\n",
    "6. Final Assignement: 4 hours to complete"
   ]
  },
  {
   "cell_type": "markdown",
   "metadata": {},
   "source": [
    "#### Module 1: Importing Data Sets\n",
    "##### 1. importing Data Sets\n"
   ]
  },
  {
   "cell_type": "markdown",
   "metadata": {},
   "source": [
    "Scientifics computing libraries in Python\n",
    "Numpy - \n",
    "Pandas - \n",
    "Scipy - \n",
    "\n",
    "Visualization libraries:\n",
    "matplotlib - \n",
    "Seaborn - \n",
    "Plotly -\n",
    "\n",
    "Algorithmic libraries:\n",
    "sklearn - \n",
    "statsmodels - \n",
    "TensorFlow -"
   ]
  },
  {
   "cell_type": "markdown",
   "metadata": {},
   "source": [
    "Importing Data:\n",
    "Format: .csv, .json, .xlsx, .txt, .hdf, ...\n",
    "File Path of dataset: \n",
    "Computer: /desktop/mydata.csv\n",
    "Internet: https://www.example.com/mydata.data"
   ]
  },
  {
   "cell_type": "markdown",
   "metadata": {},
   "source": [
    "Importing a CSV into Python\n",
    "\n",
    "with headers\n",
    "import pandas as pd\n",
    "url = \"https://www.example.com/mydata.data\"\n",
    "data = pd.read_csv(url)\n",
    "\n",
    "without headers:\n",
    "df=pd.read_csv(url, header=None)"
   ]
  },
  {
   "cell_type": "markdown",
   "metadata": {},
   "source": [
    "df: prints the entire dataset\n",
    "df.head(n): prints the first n rows\n",
    "df.tail(n): prints the last n rows"
   ]
  },
  {
   "cell_type": "markdown",
   "metadata": {},
   "source": [
    "Replace default header:\n",
    "headers = [\"column1\", \"column2\", \"column3\"]\n",
    "df.columns = headers"
   ]
  },
  {
   "cell_type": "markdown",
   "metadata": {},
   "source": [
    "Exporting a Pandas dataframe to a CSV file:\n",
    "path = \"/desktop/mydata.csv\"\n",
    "df.to_csv(path)"
   ]
  }
 ],
 "metadata": {
  "kernelspec": {
   "display_name": "Python 3",
   "language": "python",
   "name": "python3"
  },
  "language_info": {
   "codemirror_mode": {
    "name": "ipython",
    "version": 3
   },
   "file_extension": ".py",
   "mimetype": "text/x-python",
   "name": "python",
   "nbconvert_exporter": "python",
   "pygments_lexer": "ipython3",
   "version": "3.11.0"
  }
 },
 "nbformat": 4,
 "nbformat_minor": 2
}
